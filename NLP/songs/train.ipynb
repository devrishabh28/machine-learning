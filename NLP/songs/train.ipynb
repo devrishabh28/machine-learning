{
 "cells": [
  {
   "attachments": {},
   "cell_type": "markdown",
   "metadata": {},
   "source": [
    "**Importing Tensorflow**"
   ]
  },
  {
   "cell_type": "code",
   "execution_count": 1,
   "metadata": {},
   "outputs": [
    {
     "name": "stderr",
     "output_type": "stream",
     "text": [
      "2023-02-12 23:36:58.996566: I tensorflow/core/platform/cpu_feature_guard.cc:193] This TensorFlow binary is optimized with oneAPI Deep Neural Network Library (oneDNN) to use the following CPU instructions in performance-critical operations:  AVX2 FMA\n",
      "To enable them in other operations, rebuild TensorFlow with the appropriate compiler flags.\n",
      "2023-02-12 23:36:59.263148: W tensorflow/compiler/xla/stream_executor/platform/default/dso_loader.cc:64] Could not load dynamic library 'libcudart.so.11.0'; dlerror: libcudart.so.11.0: cannot open shared object file: No such file or directory\n",
      "2023-02-12 23:36:59.263171: I tensorflow/compiler/xla/stream_executor/cuda/cudart_stub.cc:29] Ignore above cudart dlerror if you do not have a GPU set up on your machine.\n",
      "2023-02-12 23:37:00.105753: W tensorflow/compiler/xla/stream_executor/platform/default/dso_loader.cc:64] Could not load dynamic library 'libnvinfer.so.7'; dlerror: libnvinfer.so.7: cannot open shared object file: No such file or directory\n",
      "2023-02-12 23:37:00.105804: W tensorflow/compiler/xla/stream_executor/platform/default/dso_loader.cc:64] Could not load dynamic library 'libnvinfer_plugin.so.7'; dlerror: libnvinfer_plugin.so.7: cannot open shared object file: No such file or directory\n",
      "2023-02-12 23:37:00.105813: W tensorflow/compiler/tf2tensorrt/utils/py_utils.cc:38] TF-TRT Warning: Cannot dlopen some TensorRT libraries. If you would like to use Nvidia GPU with TensorRT, please make sure the missing libraries mentioned above are installed properly.\n"
     ]
    }
   ],
   "source": [
    "import tensorflow as tf\n",
    "\n",
    "from tensorflow.keras.preprocessing.text import Tokenizer\n",
    "from tensorflow.keras.preprocessing.sequence import pad_sequences\n",
    "from tensorflow.keras.layers import Embedding, LSTM, Dense, Bidirectional\n",
    "from tensorflow.keras.models import Sequential\n",
    "from tensorflow.keras.optimizers import Adam\n",
    "\n",
    "import numpy as np"
   ]
  },
  {
   "attachments": {},
   "cell_type": "markdown",
   "metadata": {},
   "source": [
    "**Loading data and creating tokens**"
   ]
  },
  {
   "cell_type": "code",
   "execution_count": 2,
   "metadata": {},
   "outputs": [
    {
     "name": "stdout",
     "output_type": "stream",
     "text": [
      "{'i': 1, 'the': 2, 'you': 3, 'and': 4, 'to': 5, 'my': 6, 'me': 7, 'a': 8, 'in': 9, 'that': 10, 'your': 11, 'it': 12, 'on': 13, \"i'm\": 14, 'but': 15, 'of': 16, 'love': 17, 'with': 18, 'be': 19, 'for': 20, 'know': 21, 'like': 22, 'all': 23, 'this': 24, 'when': 25, 'we': 26, 'now': 27, 'is': 28, 'never': 29, \"don't\": 30, \"i'll\": 31, 'up': 32, 'so': 33, 'just': 34, 'if': 35, 'oh': 36, 'out': 37, \"it's\": 38, 'her': 39, 'not': 40, 'can': 41, 'see': 42, 'need': 43, 'do': 44, 'are': 45, 'was': 46, 'down': 47, 'she': 48, 'will': 49, 'what': 50, \"you're\": 51, 'one': 52, 'back': 53, 'say': 54, 'wanna': 55, 'tell': 56, 'then': 57, 'way': 58, 'time': 59, 'from': 60, 'take': 61, 'come': 62, 'go': 63, 'home': 64, \"i've\": 65, 'no': 66, 'feel': 67, 'eyes': 68, 'could': 69, 'make': 70, 'only': 71, 'have': 72, 'as': 73, 'let': 74, \"'cause\": 75, 'how': 76, 'got': 77, 'man': 78, 'still': 79, 'baby': 80, 'away': 81, 'they': 82, 'get': 83, 'again': 84, 'been': 85, 'at': 86, 'i’m': 87, 'too': 88, 'life': 89, 'were': 90, 'night': 91, 'want': 92, 'mind': 93, 'heart': 94, 'by': 95, 'here': 96, 'little': 97, 'right': 98, \"won't\": 99, 'or': 100, 'over': 101, 'he': 102, 'keep': 103, 'think': 104, 'should': 105, 'gonna': 106, 'into': 107, 'than': 108, 'give': 109, 'said': 110, 'don’t': 111, 'things': 112, 'where': 113, 'find': 114, 'about': 115, 'hold': 116, 'maybe': 117, 'leave': 118, 'more': 119, \"can't\": 120, 'these': 121, 'every': 122, 'ever': 123, \"we'll\": 124, 'day': 125, 'even': 126, 'there': 127, 'us': 128, 'sleep': 129, 'fall': 130, 'stay': 131, 'ooh': 132, 'put': 133, 'better': 134, 'cold': 135, 'song': 136, 'well': 137, 'long': 138, 'it’s': 139, 'through': 140, \"that's\": 141, 'another': 142, 'off': 143, 'yeah': 144, 'last': 145, 'hand': 146, 'left': 147, \"we're\": 148, 'our': 149, 'words': 150, 'fly': 151, 'made': 152, 'cause': 153, 'knows': 154, 'world': 155, 'new': 156, 'an': 157, 'had': 158, 'miss': 159, 'you’re': 160, 'stop': 161, 'inside': 162, 'thing': 163, 'am': 164, 'gone': 165, 'who': 166, 'tonight': 167, \"you'll\": 168, \"i'd\": 169, 'before': 170, 'same': 171, 'his': 172, 'two': 173, 'much': 174, 'look': 175, 'myself': 176, 'face': 177, 'while': 178, 'kiss': 179, 'alone': 180, 'took': 181, 'pain': 182, 'feet': 183, 'sing': 184, 'first': 185, 'change': 186, 'free': 187, 'try': 188, 'times': 189, 'close': 190, 'body': 191, 'would': 192, 'own': 193, 'friends': 194, 'him': 195, 'lips': 196, 'people': 197, 'bird': 198, 'run': 199, 'street': 200, 'place': 201, 'around': 202, 'singing': 203, 'music': 204, 'hair': 205, 'truth': 206, 'loved': 207, 'smile': 208, 'live': 209, 'falling': 210, 'friend': 211, 'them': 212, 'lead': 213, 'lost': 214, 'break': 215, 'bad': 216, 'girl': 217, 'darling': 218, \"ain't\": 219, 'arms': 220, 'forget': 221, 'remember': 222, 'getting': 223, 'something': 224, 'wrong': 225, 'angels': 226, 'deep': 227, 'used': 228, 'learn': 229, 'show': 230, 'true': 231, \"she's\": 232, 'mine': 233, 'turn': 234, 'broken': 235, 'drunk': 236, 'beautiful': 237, 'city': 238, 'under': 239, 'oho': 240, 'might': 241, 'their': 242, 'coming': 243, 'breathe': 244, 'start': 245, 'cut': 246, 'always': 247, 'found': 248, 'hearts': 249, 'hey': 250, 'old': 251, 'lie': 252, 'sitting': 253, 'i’ll': 254, 'some': 255, 'dark': 256, 'dance': 257, 'beat': 258, 'family': 259, 'since': 260, 'mouth': 261, 'thought': 262, 'did': 263, 'ya': 264, 'water': 265, 'done': 266, 'late': 267, 'guess': 268, 'running': 269, 'making': 270, 'hard': 271, 'move': 272, 'trying': 273, 'stuck': 274, 'told': 275, 'makes': 276, 'drink': 277, 'thoughts': 278, 'may': 279, 'call': 280, 'saw': 281, 'outside': 282, 'next': 283, 'moment': 284, 'nina': 285, 'border': 286, \"didn't\": 287, 'stars': 288, 'came': 289, 'went': 290, 'seems': 291, 'gotta': 292, 'watch': 293, 'road': 294, 'play': 295, 'die': 296, 'until': 297, 'feeling': 298, 'drown': 299, 'has': 300, 'i’ve': 301, 'head': 302, 'light': 303, 'seem': 304, 'though': 305, 'care': 306, 'enough': 307, 'hate': 308, \"there's\": 309, 'wake': 310, 'loving': 311, 'radio': 312, 'yet': 313, 'heard': 314, 'can’t': 315, 'everything': 316, 'boy': 317, 'whenever': 318, 'week': 319, 'open': 320, 'hurt': 321, 'room': 322, 'both': 323, 'good': 324, 'hear': 325, 'she’s': 326, 'nothing': 327, 'sofa': 328, 'cry': 329, 'watching': 330, 'bring': 331, 'jump': 332, 'habits': 333, 'best': 334, 'tried': 335, 'write': 336, 'hope': 337, 'holding': 338, 'real': 339, 'less': 340, 'looking': 341, 'stand': 342, 'taste': 343, 'asleep': 344, 'goes': 345, 'pick': 346, 'wait': 347, 'far': 348, 'touch': 349, 'waiting': 350, 'after': 351, 'name': 352, 'lose': 353, 'soul': 354, 'dreams': 355, 'upon': 356, 'felt': 357, 'control': 358, 'fell': 359, 'believe': 360, 'going': 361, 'fight': 362, 'clothes': 363, 'near': 364, 'living': 365, 'thinking': 366, 'because': 367, 'without': 368, 'london': 369, 'help': 370, 'south': 371, 'kissed': 372, 'tight': 373, 'lies': 374, 'days': 375, 'door': 376, 'fast': 377, 'playing': 378, 'missing': 379, 'goodbye': 380, 'doing': 381, 'knew': 382, 'follow': 383, 'really': 384, 'soon': 385, 'talk': 386, 'anymore': 387, 'ground': 388, 'shit': 389, 'side': 390, 'use': 391, 'worst': 392, 'fade': 393, \"'til\": 394, 'lights': 395, 'sleeps': 396, 'stranger': 397, 'couple': 398, 'fine': 399, 'played': 400, 'sun': 401, 'god': 402, 'ooo': 403, 'crash': 404, 'ah': 405, 'please': 406, 'past': 407, 'why': 408, 'burning': 409, 'taking': 410, 'paint': 411, 'sound': 412, 'rain': 413, 'those': 414, 'ends': 415, 'warm': 416, 'hands': 417, 'forever': 418, 'hit': 419, 'backseat': 420, 'homeless': 421, \"you'd\": 422, 'fingers': 423, 'lahmlahlah': 424, 'mmmm': 425, 'grown': 426, 'trust': 427, 'mean': 428, 'high': 429, 'memories': 430, 'three': 431, 'blue': 432, \"you've\": 433, 'memory': 434, 'listen': 435, 'someone': 436, 'pass': 437, 'catch': 438, 'together': 439, 'hide': 440, 'angel': 441, 'drop': 442, 'slowly': 443, '‘cos': 444, 'speak': 445, 'dad': 446, 'woman': 447, 'young': 448, 'fuck': 449, 'read': 450, 'lungs': 451, 'walk': 452, 'alive': 453, 'calls': 454, 'between': 455, \"'round\": 456, 'meant': 457, \"he's\": 458, 'years': 459, 'nightmares': 460, 'four': 461, 'burn': 462, 'lover': 463, 'dry': 464, 'already': 465, 'guitar': 466, 'average': 467, 'teen': 468, 'we’re': 469, 'lay': 470, 'else': 471, 'work': 472, 'different': 473, 'whole': 474, 'track': 475, 'telling': 476, 'feels': 477, 'rise': 478, 'eating': 479, 'house': 480, 'floor': 481, 'neck': 482, 'trouble': 483, 'half': 484, 'i’d': 485, 'heal': 486, 'awake': 487, 'bitterness': 488, 'white': 489, 'sweet': 490, 'other': 491, 'sell': 492, 'skin': 493, 'ask': 494, 'lately': 495, 'dear': 496, 'blazing': 497, 'air': 498, 'scene': 499, \"let's\": 500, 'bed': 501, 'perfect': 502, \"'bout\": 503, 'eraser': 504, 'saying': 505, 'strings': 506, 'typical': 507, 'standing': 508, 'small': 509, 'harder': 510, 'tears': 511, 'line': 512, 'across': 513, 'losing': 514, 'although': 515, 'smoke': 516, 'eye': 517, 'won’t': 518, 'yours': 519, 'voice': 520, 'wide': 521, 'flow': 522, 'fear': 523, 'loose': 524, 'slow': 525, 'months': 526, 'replace': 527, 'sat': 528, 'front': 529, 'fact': 530, 'dress': 531, 'stops': 532, 'beside': 533, 'mad': 534, 'wet': 535, 'straight': 536, 'regret': 537, 'owe': 538, 'morning': 539, 'safe': 540, 'band': 541, 'anyone': 542, 'till': 543, 'father': 544, 'grab': 545, 'probably': 546, \"'em\": 547, 'ones': 548, 'rest': 549, 'hill': 550, '8': 551, 'listening': 552, 'lied': 553, 'fill': 554, 'against': 555, 'thumb': 556, 'la': 557, 'comfort': 558, 'happier': 559, 'ring': 560, 'crazy': 561, 'shame': 562, \"we've\": 563, 'walked': 564, 'taken': 565, \"wouldn't\": 566, 'set': 567, 'end': 568, 'needs': 569, 'cos': 570, 'wanted': 571, 'corner': 572, 'ignore': 573, \"aren't\": 574, 'wasting': 575, 'leaving': 576, 'plan': 577, 'bleed': 578, 'ready': 579, 'giving': 580, 'dead': 581, 'he’s': 582, 'piece': 583, 'anything': 584, 'talking': 585, 'barely': 586, 'today': 587, 'ain’t': 588, 'bit': 589, 'chest': 590, 'pieces': 591, 'cheeks': 592, 'along': 593, 'black': 594, 'falls': 595, 'wish': 596, 'walking': 597, 'word': 598, 'smoking': 599, 'pipe': 600, 'lyrics': 601, 'nights': 602, 'thousand': 603, \"haven't\": 604, 'pretty': 605, 'broke': 606, 'summer': 607, 'sure': 608, 'food': 609, \"isn't\": 610, 'moved': 611, 'changed': 612, 'clear': 613, 'upper': 614, 'motherland': 615, 'mm': 616, 'shoulder': 617, 'strawberries': 618, 'jeans': 619, 'needed': 620, 'money': 621, \"she'll\": 622, \"wasn't\": 623, 'nobody': 624, 'swear': 625, 'seen': 626, 'single': 627, 'drag': 628, 'sunlight': 629, 'low': 630, 'dream': 631, 'n': 632, 'wind': 633, \"we'd\": 634, 'brother': 635, 'wrap': 636, 'fire': 637, 'dive': 638, 'castle': 639, 'galway': 640, \"party's\": 641, 'hoping': 642, 'phone': 643, \"everything's\": 644, 'chance': 645, 'misery': 646, 'such': 647, 'strong': 648, 'fool': 649, 'beyond': 650, 'pale': 651, 'what’s': 652, 'blind': 653, 'disappear': 654, 'pay': 655, 'hundred': 656, 'glass': 657, 'alonestar': 658, 'ed': 659, 'grow': 660, 'sheeran': 661, 'reach': 662, 'you’ve': 663, 'fun': 664, 'finding': 665, 'yourself': 666, 'that’s': 667, 'dancing': 668, 'great': 669, 'being': 670, 'started': 671, 'top': 672, '10': 673, 'pages': 674, 'pen': 675, 'scream': 676, 'bump': 677, 'hush': 678, 'songs': 679, 'school': 680, 'red': 681, 'jack': 682, 'growing': 683, 'squeeze': 684, 'gets': 685, 'ears': 686, 'talked': 687, 'painful': 688, 'hers': 689, 'darkness': 690, 'sinking': 691, 'grams': 692, 'any': 693, 'complete': 694, 'mustn’t': 695, 'leads': 696, 'diving': 697, 'underneath': 698, 'colour': 699, 'wearing': 700, 'burns': 701, 'calling': 702, 'ra': 703, 'blood': 704, 'within': 705, 'sign': 706, 'job': 707, 'sit': 708, 'playlist': 709, \"they're\": 710, 'lady': 711, 'wonder': 712, 'lord': 713, 'full': 714, 'bridge': 715, 'ended': 716, 'u': 717, 'strumming': 718, 'grade': 719, 'watched': 720, 'smell': 721, 'six': 722, 'promise': 723, 'met': 724, 'babe': 725, 'kind': 726, 'lumière': 727, 'bar': 728, 'wipe': 729, 'shirtsleeves': 730, 'shape': 731, 'push': 732, 'discovering': 733, 'brand': 734, 'positive': 735, 'wexford': 736, 'shivers': 737, 'cracks': 738, \"nothin'\": 739, \"couldn't\": 740, 'must': 741, \"'cos\": 742, \"what's\": 743, 'wrote': 744, 'cigarette': 745, 'locked': 746, 'cares': 747, \"song's\": 748, 'loud': 749, 'pretend': 750, 'shadow': 751, 'doors': 752, 'key': 753, 'crashing': 754, 'turned': 755, 'mark': 756, 'picture': 757, 'understand': 758, 'seek': 759, 'keeping': 760, 'knock': 761, \"d'you\": 762, 'blow': 763, 'bass': 764, 'smiles': 765, 'leaves': 766, 'advice': 767, 'breath': 768, 'apart': 769, 'mess': 770, 'numb': 771, 'fuss': 772, 'tunes': 773, 'melody': 774, 'lust': 775, 'either': 776, 'gave': 777, 'type': 778, 'guy': 779, 'signs': 780, 'does': 781, 'looked': 782, 'wine': 783, 'youth': 784, 'written': 785, 'ear': 786, 'mother': 787, 'pull': 788, 'town': 789, 'singer': 790, 'step': 791, 'shows': 792, 'chase': 793, 'shoes': 794, 'year': 795, 'fucking': 796, 'throw': 797, 'team': 798, 'filled': 799, 'happy': 800, 'complicated': 801, 'mmm': 802, 'fills': 803, 'voices': 804, 'country': 805, 'covered': 806, 'closed': 807, 'hours': 808, 'leg': 809, 'tea': 810, 'least': 811, 'rather': 812, 'comes': 813, 'heading': 814, 'turns': 815, 'kill': 816, 'alright': 817, 'shiver': 818, 'escape': 819, 'says': 820, 'degree': 821, 'death': 822, 'sometimes': 823, 'chill': 824, 'reason': 825, 'spin': 826, 'working': 827, 'worth': 828, 'green': 829, 'sleeping': 830, 'marry': 831, 'kids': 832, 'gold': 833, 'teardrops': 834, 'ohh': 835, 'sorry': 836, 'edge': 837, 'mend': 838, 'yesterday': 839, 'bottle': 840, 'rolled': 841, 'known': 842, 'kicks': 843, 'carry': 844, 'nancy': 845, \"lookin'\": 846, 'bags': 847, 'lying': 848, 'everybody': 849, 'almost': 850, 'wishing': 851, 'thrown': 852, 'train': 853, \"everyone's\": 854, 'goldfish': 855, 'behind': 856, 'quiet': 857, 'flows': 858, 'shadowed': 859, 'starts': 860, 'ups': 861, 'game': 862, 'luck': 863, 'sand': 864, 'mr': 865, 'who’s': 866, 'peace': 867, 'spinning': 868, 'clock': 869, 'hip': 870, 'searching': 871, 'kicking': 872, 'urban': 873, 'speech': 874, 'cover': 875, 'rock': 876, 'roll': 877, 'waited': 878, 'wife': 879, 'children': 880, 'above': 881, 'weak': 882, 'tear': 883, 'eat': 884, 'notes': 885, 'strange': 886, 'games': 887, 'spent': 888, 'add': 889, 'sara': 890, 'wow': 891, 'guys': 892, 'mood': 893, 'point': 894, 'kept': 895, \"who's\": 896, 'matter': 897, 'stomach': 898, 'yellow': 899, '12': 900, 'tired': 901, 'asking': 902, 'born': 903, 'raised': 904, 'laugh': 905, 'loop': 906, 'class': 907, 'enemy': 908, 'fake': 909, 'sorrow': 910, 'west': 911, 'tune': 912, 'hell': 913, 'cool': 914, 'act': 915, 'future': 916, 'rucksack': 917, 'tour': 918, 'rap': 919, 'shot': 920, 'women': 921, 'dirty': 922, 'liar': 923, 'test': 924, 'hood': 925, 'lace': 926, 'trips': 927, 'company': 928, 'walls': 929, 'tomorrow': 930, 'wants': 931, 'staring': 932, 'aren’t': 933, 'scar': 934, 'sunburn': 935, 'breathing': 936, 'daydream': 937, 'ripped': 938, 'throat': 939, 'double': 940, 'many': 941, 'lines': 942, 'meet': 943, 'except': 944, '2': 945, 'its': 946, 'certain': 947, '5': 948, 'cheek': 949, 'party': 950, 'looks': 951, 'traveller': 952, 'whisky': 953, 'paid': 954, 'plans': 955, 'secrets': 956, 'land': 957, 'closing': 958, 'war': 959, 'steals': 960, 'restless': 961, 'easy': 962, 'chart': 963, 'sheets': 964, 'expect': 965, 'second': 966, 'shine': 967, 'unless': 968, 'legs': 969, \"'\": 970, 'conversation': 971, 'caught': 972, 'lot': 973, 'arm': 974, 'faith': 975, 'woke': 976, 'respect': 977, 'rush': 978, 'bright': 979, 'winter': 980, 'greets': 981, 'stains': 982, 'embrace': 983, 'child': 984, 'funny': 985, \"one's\": 986, 'champagne': 987, 'tides': 988, 'weeks': 989, 'sunset': 990, 'sight': 991, \"e'er\": 992, 'joy': 993, 'twenty': 994, \"this'll\": 995, 'afraid': 996, 'five': 997, \"livin'\": 998, 'son': 999, 'stumbling': 1000, \"wanna'\": 1001, 'mistake': 1002, 'aim': 1003, 'ourselves': 1004, 'fit': 1005, \"how'd\": 1006, 'chemicals': 1007, 'bloodstream': 1008, 'bones': 1009, 'changing': 1010, 'supposed': 1011, 'eventually': 1012, 'seats': 1013, 'hallelujah': 1014, 'happens': 1015, 'become': 1016, 'conversations': 1017, 'grass': 1018, 'fiddle': 1019, 'irish': 1020, 'english': 1021, 'thumbs': 1022, 'conquer': 1023, \"everybody's\": 1024, 'te': 1025, 'amo': 1026, 'mami': 1027, 'graffiti': 1028, 'overpass': 1029, 'joker': 1030, 'queen': 1031, 'sick': 1032, 'packed': 1033, 'crying': 1034, 'pack': 1035, 'happened': 1036, 'kite': 1037, 'note': 1038, 'wrapped': 1039, 'anyway': 1040, 'blame': 1041, 'proud': 1042, 'learned': 1043, 'mistakes': 1044, 'river': 1045, 'crossed': 1046, 'fault': 1047, 'smaller': 1048, 'attention': 1049, 'knife': 1050, 'fears': 1051, 'craftsmen': 1052, 'army': 1053, 'brain': 1054, 'strain': 1055, 'passing': 1056, 'pace': 1057, 'treat': 1058, 'dirt': 1059, 'worse': 1060, 'clean': 1061, 'stevie': 1062, 'ruskin': 1063, 'mind’s': 1064, 'hiding': 1065, 'share': 1066, 'spark': 1067, 'that’ll': 1068, 'monkey': 1069, 'bust': 1070, 'rising': 1071, 'finally': 1072, 'sunshine': 1073, 'sea': 1074, 'paper': 1075, 'snow': 1076, 'story': 1077, 'lived': 1078, 'dog': 1079, 'choice': 1080, 'waste': 1081, 'knees': 1082, 'stun': 1083, 'outrun': 1084, 'empty': 1085, 'unknown': 1086, 'feelings': 1087, 'cannot': 1088, 'beware': 1089, 'reply': 1090, 'lives': 1091, 'weight': 1092, 'pure': 1093, 'rapping': 1094, 'haters': 1095, 'block': 1096, 'industry': 1097, 'bottom': 1098, 'called': 1099, 'frustrated': 1100, 'wasted': 1101, 'takes': 1102, 'bringing': 1103, 'doubt': 1104, 'nature': 1105, 'big': 1106, 'base': 1107, 'stage': 1108, 'pedal': 1109, 'whisper': 1110, 'boom': 1111, 'mic': 1112, 'crowd': 1113, 'sadness': 1114, 'grief': 1115, 'coast': 1116, 'stronger': 1117, 'aiming': 1118, 'rice': 1119, 'plus': 1120, 'breaking': 1121, 'elephant': 1122, 'using': 1123, 'selling': 1124, 'bus': 1125, 'reading': 1126, 'none': 1127, 'held': 1128, 'frightened': 1129, 'nervous': 1130, 'sirens': 1131, 'windowsill': 1132, 'tower': 1133, 'untied': 1134, 'pavement': 1135, 'puts': 1136, 'shop': 1137, 'gives': 1138, 'bled': 1139, 'echoed': 1140, 'traffic': 1141, 'whatever': 1142, 'east': 1143, 'differently': 1144, 'eighteen': 1145, 'crumbling': 1146, 'pastries': 1147, 'whoa': 1148, 'hitting': 1149, 'slept': 1150, 'quarter': 1151, 'kinda': 1152, 'uni': 1153, 'nurse': 1154, 'beach': 1155, 'berlin': 1156, 'tokyo': 1157, 'jamaica': 1158, 'mention': 1159, 'local': 1160, 'car': 1161, 'sleeve': 1162, 'firefly': 1163, 'lean': 1164, 'flood': 1165, 'freefall': 1166, 'tada': 1167, 'moves': 1168, 'sticking': 1169, \"o'clock\": 1170, 'driving': 1171, 'ghost': 1172, 'situation': 1173, 'fighting': 1174, 'minute': 1175, 'save': 1176, 'zone': 1177, 'flat': 1178, 'fam': 1179, 'deal': 1180, 'boring': 1181, 'speakers': 1182, 'rhythm': 1183, 'club': 1184, 'mirror': 1185, \"they'll\": 1186, 'pimp': 1187, 'dude': 1188, 'age': 1189, 'bag': 1190, 'state': 1191, 'damn': 1192, 'caused': 1193, 'question': 1194, 'having': 1195, 'number': 1196, 'earth': 1197, 'ocean': 1198, 'creeps': 1199, 'married': 1200, 'wedding': 1201, 'younger': 1202, 'forgive': 1203, 'evening': 1204, 'weekend': 1205, 'flames': 1206, \"heart's\": 1207, 'settle': 1208, 'unaware': 1209, 'sheltered': 1210, 'hot': 1211, 'brought': 1212, 'tiny': 1213, 'isn’t': 1214, 'allow': 1215, 'float': 1216, 'autumn': 1217, 'miles': 1218, 'seven': 1219, 'bye': 1220, 'somehow': 1221, 'gun': 1222, 'strangers': 1223, 'hotel': 1224, 'salt': 1225, 'law': 1226, 'sipping': 1227, 'van': 1228, 'part': 1229, 'senses': 1230, 'collide': 1231, 'drinking': 1232, 'spoke': 1233, 'reload': 1234, 'figure': 1235, 'plane': 1236, 're': 1237, 'ok': 1238, 'lonely': 1239, 'wonderful': 1240, 'surrounded': 1241, 'daddy': 1242, 'nine': 1243, 'beating': 1244, 'win': 1245, 'knowing': 1246, 'oceans': 1247, 'boat': 1248, 'salted': 1249, 'flooded': 1250, 'welcome': 1251, 'lanes': 1252, 'cards': 1253, 'aeroplane': 1254, 'hanging': 1255, 'table': 1256, 'magnet': 1257, 'bedsheets': 1258, 'barefoot': 1259, 'favourite': 1260, 'deserve': 1261, 'wears': 1262, 'understanding': 1263, 'positivity': 1264, 'piano': 1265, 'university': 1266, 'exponential': 1267, 'growth': 1268, 'stock': 1269, 'market': 1270, 'portfolios': 1271, 'religion': 1272, 'mulligan': 1273, 'william': 1274, 'nowhere': 1275, 'join': 1276, 'sweat': 1277, 'simplest': 1278, 'moments': 1279, 'million': 1280, \"endin'\": 1281, \"swearin'\": 1282, 'stare': 1283, 'space': 1284, 'kings': 1285, 'diamond': 1286, 'passed': 1287, 'moon': 1288, 'mountain': 1289, 'burned': 1290, 'insane': 1291, 'pill': 1292, 'exhale': 1293, 'flag': 1294, 'sail': 1295, 'liberate': 1296, 'jokes': 1297, 'stepping': 1298, 'stones': 1299, 'ruin': 1300, 'jealous': 1301, 'bore': 1302, 'insomnia': 1303, 'analyze': 1304, 'silent': 1305, 'screams': 1306, 'stumble': 1307, 'crawl': 1308, 'affected': 1309, 'decay': 1310, 'screaming': 1311, 'followed': 1312, 'windows': 1313, 'shattered': 1314, 'lovers': 1315, 'we’d': 1316, 'you’d': 1317, 'matters': 1318, 'irresistible': 1319, 'sin': 1320, 'nevermore': 1321, 'which': 1322, 'winning': 1323, 'steal': 1324, 'billy': 1325, 'disappearing': 1326, 'quick': 1327, 'harsh': 1328, 'sanity': 1329, 'waking': 1330, 'hi': 1331, 'hop': 1332, 'sown': 1333, 'seeds': 1334, 'pound': 1335, 'once': 1336, 'effort': 1337, 'shown': 1338, 'nice': 1339, 'rooms': 1340, 'misses': 1341, 'returned': 1342, 'june': 1343, 'sunny': 1344, 'roam': 1345, 'regrets': 1346, 'worship': 1347, 'ending': 1348, 'idol': 1349, 'pretending': 1350, 'answer': 1351, 'strengths': 1352, 'stories': 1353, 'surprise': 1354, 'we’ve': 1355, 'tide': 1356, 'there’s': 1357, 'me’': 1358, 'believer': 1359, 'relieve': 1360, 'plain': 1361, 'tangled': 1362, 'scars': 1363, 'glad': 1364, 'glare': 1365, 'influence': 1366, 'wash': 1367, 'this’ll': 1368, 'mo’': 1369, 'girl’s': 1370, 'burnt': 1371, 'spend': 1372, 'fever': 1373, 'cheap': 1374, 'blonde': 1375, 'cheer': 1376, 'lays': 1377, 'hole': 1378, 'worries': 1379, 'bastards': 1380, 'pressure': 1381, 'grind': 1382, 'rhymes': 1383, 'shots': 1384, 'fools': 1385, 'raise': 1386, 'everyday': 1387, 'sky': 1388, 'infected': 1389, 'yidder': 1390, 'weren’t': 1391, 'translated': 1392, 'sparks': 1393, 'behaviour': 1394, 'language': 1395, 'speaks': 1396, 'unforgiving': 1397, 'dilated': 1398, 'facts': 1399, 'whispering': 1400, 'lullabies': 1401, 'postcards': 1402, 'laughter': 1403, 'pulled': 1404, 'shake': 1405, 'box': 1406, 'socks': 1407, 'carpets': 1408, 'talent': 1409, 'check': 1410, 'distance': 1411, 'blisters': 1412, 'chikka': 1413, 'flip': 1414, 'clare': 1415, 'stood': 1416, 'everywhere': 1417, 'vivid': 1418, 'trace': 1419, 'suffolk': 1420, 'field': 1421, 'focus': 1422, 'glue': 1423, 'stick': 1424, 'sort': 1425, 'writer': 1426, \"name's\": 1427, 'genre': 1428, 'bullshit': 1429, 'perform': 1430, 'stadium': 1431, \"brother's\": 1432, 'couch': 1433, 'prepared': 1434, 'wax': 1435, 'ginger': 1436, 'holds': 1437, 'laces': 1438, 'cds': 1439, 'papers': 1440, 'kid': 1441, 'razor': 1442, 'hurts': 1443, 'studio': 1444, 'tracks': 1445, 'blows': 1446, 'relevant': 1447, 'celibate': 1448, 'happen': 1449, \"world's\": 1450, 'shoulders': 1451, 'window': 1452, \"it'll\": 1453, 'purpose': 1454, 'traveler': 1455, 'pollution': 1456, 'matches': 1457, 'muddle': 1458, 'syringes': 1459, 'puddle': 1460, 'grew': 1461, 'resort': 1462, 'arrogance': 1463, 'north': 1464, \"london's\": 1465, 'properly': 1466, 'negative': 1467, 'tow': 1468, 'suited': 1469, 'shelter': 1470, 'scarred': 1471, 'sour': 1472, 'struggling': 1473, 'flies': 1474, 'sells': 1475, 'swim': 1476, 'bank': 1477, 'weary': 1478, 'inspired': 1479, 'meals': 1480, 'shunned': 1481, 'driver': 1482, 'plays': 1483, 'wouldn’t': 1484, 'dew': 1485, 'oak': 1486, 'tree': 1487, 'quite': 1488, 'flying': 1489, 'streets': 1490, 'bedroom': 1491, 'lighting': 1492, 'tendency': 1493, 'finish': 1494, 'tied': 1495, 'elastic': 1496, 'shy': 1497, 'buys': 1498, 'chips': 1499, 'cheese': 1500, 'fruit': 1501, 'e': 1502, 'smooth': 1503, 'cease': 1504, 'erase': 1505, 'coffee': 1506, 'coke': 1507, 'patience': 1508, \"loving's\": 1509, 'keeps': 1510, 'beneath': 1511, 'butterflies': 1512, 'trees': 1513, 'jet': 1514, 'hour': 1515, 'flashing': 1516, 'rhyme': 1517, 'recognise': 1518, 'feature': 1519, 'michael': 1520, '4': 1521, 'seconds': 1522, 'wage': 1523, 'jesus': 1524, 'teeth': 1525, 'background': 1526, 'raps': 1527, 'label': 1528, 'mates': 1529, 'lo': 1530, 'cash': 1531, 'sober': 1532, 'wise': 1533, 'snooze': 1534, 'masses': 1535, 'scan': 1536, 'decide': 1537, 'most': 1538, 'driven': 1539, 'fans': 1540, '9': 1541, 'golden': 1542, 'dawn': 1543, 'yes': 1544, 'nan': 1545, 'jme': 1546, 'list': 1547, 'famous': 1548, 'shoot': 1549, 'bullet': 1550, 'proof': 1551, 'booth': 1552, 'rave': 1553, 'bleeding': 1554, 'birthday': 1555, 'ache': 1556, 'trip': 1557, 'business': 1558, 'dumb': 1559, 'medical': 1560, 'daughter': 1561, 'frame': 1562, 'police': 1563, 'ward': 1564, 'calm': 1565, 'harm': 1566, 'court': 1567, 'knowledge': 1568, 'card': 1569, 'blade': 1570, 'terror': 1571, '6': 1572, 'dumps': 1573, 'news': 1574, 'stress': 1575, 'fence': 1576, 'woulda': 1577, 'fifteen': 1578, 'stone': 1579, 'violent': 1580, 'joking': 1581, 'floating': 1582, 'send': 1583, 'sailing': 1584, 'nah': 1585, 'achieve': 1586, 'retrieve': 1587, 'tenerife': 1588, 'plant': 1589, 'evergreen': 1590, 'scared': 1591, 'sack': 1592, 'busy': 1593, 'strike': 1594, 'cousin': 1595, 'rhyming': 1596, 'nodding': 1597, 'shocking': 1598, 'wheels': 1599, 'jobs': 1600, 'vision': 1601, 'strength': 1602, 'impossible': 1603, 'task': 1604, 'alo': 1605, 'instead': 1606, 'seeing': 1607, 'ride': 1608, 'wave': 1609, 'surfing': 1610, 'purse': 1611, 'beer': 1612, 'blink': 1613, 'lego': 1614, 'movements': 1615, 'liver': 1616, 'ink': 1617, 'gray': 1618, 'dvd': 1619, 'breaks': 1620, \"should've\": 1621, 'necklace': 1622, 'unborn': 1623, 'gentle': 1624, 'december': 1625, 'storm': 1626, 'raging': 1627, 'numbers': 1628, 'wall': 1629, 'surrender': 1630, 'pressed': 1631, 'alcohol': 1632, 'drowning': 1633, 'wit': 1634, 'parting': 1635, 'liked': 1636, 'sad': 1637, 'okay': 1638, 'evil': 1639, 'ice': 1640, 'tap': 1641, 'round': 1642, 'rolling': 1643, 'student': 1644, 'begin': 1645, 'ten': 1646, 'lemon': 1647, 'hidden': 1648, 'pride': 1649, 'lane': 1650, 'pint': 1651, 'steel': 1652, 'na': 1653, \"daddy's\": 1654, 'riding': 1655, 'yelawolf': 1656, 'direction': 1657, 'chasing': 1658, 'hooligans': 1659, 'lake': 1660, 'pool': 1661, 'minus': 1662, 'records': 1663, 'brings': 1664, 'ball': 1665, 'coffin': 1666, 'frog': 1667, 'each': 1668, 'attack': 1669, 'johnny': 1670, 'hopes': 1671, 'motions': 1672, 'worry': 1673, 'reckon': 1674, 'staying': 1675, 'film': 1676, 'kissing': 1677, \"time's\": 1678, 'planet': 1679, 'photograph': 1680, 'frozen': 1681, 'pocket': 1682, 'closer': 1683, 'ripping': 1684, 'faded': 1685, 'coloured': 1686, 'crimson': 1687, 'fading': 1688, 'roadway': 1689, 'backpack': 1690, 'tie': 1691, 'closet': 1692, 'tend': 1693, 'personal': 1694, 'given': 1695, 'writing': 1696, 'depend': 1697, 'cider': 1698, 'history': 1699, 'erasing': 1700, 'ahead': 1701, 'mysterious': 1702, 'ways': 1703, 'honey': 1704, 'crowds': 1705, 'devil': 1706, \"doesn't\": 1707, 'grandma': 1708, \"darlin'\": 1709, 'shut': 1710, 'designed': 1711, 'alight': 1712, 'afire': 1713, 'habit': 1714, 'onto': 1715, 'avoiding': 1716, 'tryna': 1717, 'twice': 1718, 'garden': 1719, 'anchored': 1720, 'captain': 1721, 'armband': 1722, 'thighs': 1723, 'drive': 1724, 'aware': 1725, 'sting': 1726, 'rainy': 1727, 'wembley': 1728, 'fields': 1729, '90': 1730, 'dancer': 1731, '000': 1732, 'jukebox': 1733, 'handmade': 1734, 'somebody': 1735, 'waist': 1736, 'asked': 1737, 'gym': 1738, 'means': 1739, 'daisies': 1740, 'roses': 1741, 'spread': 1742, 'l': 1743, 'stunning': 1744, 'designer': 1745, 'row': 1746, 'fashion': 1747, 'pre': 1748, 'nups': 1749, 'homes': 1750, 'brown': 1751, 'curves': 1752, 'quiero': 1753, 'diamonds': 1754, 'aye': 1755, 'ugh': 1756, 'skrrt': 1757, 'engine': 1758, \"soul's\": 1759, 'er': 1760, 'stacked': 1761, 'fold': 1762, 'despise': 1763, 'praying': 1764, \"baby's\": 1765, 'rusty': 1766, 'thinks': 1767, 'haze': 1768, \"drink's\": 1769, 'daze': 1770, 'blurry': 1771, 'addicted': 1772, 'venus': 1773, 'mars': 1774, 'counting': 1775, 'turning': 1776, 'tall': 1777, 'justify': 1778, 'wayward': 1779, 'wept': 1780, 'cheeky': 1781, 'laughs': 1782, 'washed': 1783, 'very': 1784, 'edgy': 1785, 'definition': 1786, 'partially': 1787, 'treating': 1788, 'interested': 1789, 'twinkle': 1790, 'widen': 1791, 'happening': 1792, 'slip': 1793, 'haunt': 1794, 'tension': 1795, 'cope': 1796, 'choke': 1797, 'consistency': 1798, 'durability': 1799, 'footsteps': 1800, 'flirt': 1801, 'cloud': 1802, 'master': 1803, 'introduce': 1804, 'resurrect': 1805, 'psycho': 1806, 'paranoia': 1807, 'tick': 1808, 'declare': 1809, 'dearly': 1810, 'sending': 1811, 'letters': 1812, 'shall': 1813, 'converse': 1814, 'amends': 1815, 'depends': 1816, 'shaking': 1817, 'setting': 1818, 'fi': 1819, 'tickity': 1820, 'tock': 1821, 'backing': 1822, 'rewind': 1823, 'style': 1824, 'dust': 1825, 'artistic': 1826, 'flipping': 1827, 'script': 1828, 'wires': 1829, 'sparking': 1830, 'lift': 1831, 'shock': 1832, 'metaphorical': 1833, 'ducking': 1834, 'lock': 1835, 'pump': 1836, 'bins': 1837, 'consciousness': 1838, 'sinks': 1839, 'crocodile': 1840, '‘see': 1841, 'later’': 1842, 'frowns': 1843, 'solve': 1844, 'bone': 1845, 'deception': 1846, 'noise': 1847, 'scents': 1848, 'nest': 1849, 'babies': 1850, 'flown': 1851, 'sent': 1852, 'kisses': 1853, 'he’d': 1854, 'she’d': 1855, 'overgrown': 1856, 'man’s': 1857, 'afternoon': 1858, 'stares': 1859, 'he’ll': 1860, 'conscience': 1861, 'distant': 1862, 'brainwashed': 1863, 'disagree': 1864, 'swam': 1865, 'spur': 1866, '‘i': 1867, 'exorcise': 1868, 'demons': 1869, 'scattered': 1870, 'twisted': 1871, 'spite': 1872, 'shite': 1873, 'sweetness': 1874, 'demand': 1875, 'healer’s': 1876, 'april': 1877, 'outdoors': 1878, 'shed': 1879, 'misbehave': 1880, 'hypnotise': 1881, 'movement': 1882, 'shuffle': 1883, 'cleaner': 1884, 'gravitate': 1885, '2d': 1886, 'enlighten': 1887, 'unwind': 1888, 'reminds': 1889, 'drunken': 1890, 'talks': 1891, 'hammock': 1892, 'strongbow': 1893, 'dug': 1894, 'however': 1895, 'weaker': 1896, 'sleeper': 1897, 'deeper': 1898, 'became': 1899, 'invaded': 1900, 'sadists': 1901, 'developed': 1902, 'hater': 1903, 'radar': 1904, 'appeared': 1905, 'remedy': 1906, 'hennesey': 1907, 'glocks': 1908, 'gangster': 1909, 'normal': 1910, 'casual': 1911, 'usual': 1912, 'realise': 1913, \"resurrection's\": 1914, 'arrived': 1915, 'mist': 1916, 'clears': 1917, 'homie': 1918, 'arise': 1919, 'tomb': 1920, 'disguise': 1921, 'ashes': 1922, 'surprising': 1923, 'guiding': 1924, 'advising': 1925, 'steady': 1926, 'abuse': 1927, '…what': 1928, 'chitter': 1929, 'chatter': 1930, 'yadder': 1931, 'dignity': 1932, 'battle': 1933, 'freely': 1934, 'seedy': 1935, 'needy': 1936, 'breast': 1937, 'rescued': 1938, 'threes': 1939, 'demonstrate': 1940, 'aggravate': 1941, 'sympathy': 1942, 'unsure': 1943, 'savour': 1944, 'life’s': 1945, 'bitter': 1946, 'childish': 1947, 'they’ve': 1948, 'dates': 1949, 'fakes': 1950, 'hollow': 1951, 'culture': 1952, 'wear': 1953, 'chains': 1954, 'fecking': 1955, 'lonsdale': 1956, 'jumper': 1957, 'simply': 1958, 'eases': 1959, 'melts': 1960, 'sellotape': 1961, 'celestial': 1962, 'wager': 1963, 'funk': 1964, '‘you': 1965, '‘disarm’': 1966, '‘flooded': 1967, 'quarry’': 1968, 'detox': 1969, 'lampshades': 1970, 'room’s': 1971, 'clap': 1972, 'support': 1973, 'acts': 1974, 'match': 1975, 'gary': 1976, 'dunne': 1977, 'newton': 1978, 'faulkner': 1979, '‘amerikan': 1980, 'folk': 1981, 'song’': 1982, 'weaponry': 1983, 'slap': 1984, 'jp': 1985, 'flops': 1986, 'mixed': 1987, 'sock': 1988, 'stephanie': 1989, 'propped': 1990, 'centre': 1991, 'silence': 1992, 'shout': 1993, '‘wow': 1994, '’': 1995, 'guts': 1996, 'name’s': 1997, 'nizlopi': 1998, 'spanish': 1999, 'strand': 2000, 'remains': 2001, 'milltown': 2002, 'pub': 2003, 'search': 2004, 'contains': 2005, 'banish': 2006, 'lonesome': 2007, 'they’ll': 2008, 'return': 2009, 'shore': 2010, 'lands': 2011, 'atlantic': 2012, 'fog': 2013, 'spell': 2014, 'nerve': 2015, 'didn’t': 2016, 'ciao': 2017, 'blush': 2018, 'artists': 2019, 'disastrous': 2020, 'greener': 2021, 'pastures': 2022, 'lazy': 2023, 'sadly': 2024, 'suffocate': 2025, 'verse': 2026, 'smith': 2027, 'bluffing': 2028, 'credits': 2029, \"shit's\": 2030, 'blast': 2031, 'brit': 2032, 'crack': 2033, 'product': 2034, 'feed': 2035, 'wikipedia': 2036, 'musically': 2037, 'demonstrating': 2038, 'meditating': 2039, 'enterprise': 2040, 'fella': 2041, 'filmed': 2042, \"'a\": 2043, 'gabriella': 2044, \"cilmi'\": 2045, 'heights': 2046, 'damien': 2047, 'arabian': 2048, 'nighter': 2049, 'short': 2050, 'height': 2051, 'hyper': 2052, 'songwriter': 2053, \"game's\": 2054, 'level': 2055, 'bound': 2056, 'vo5': 2057, 'dose': 2058, 'basic': 2059, \"people's\": 2060, 'facelift': 2061, \"rapper's\": 2062, 'majors': 2063, 'nationwide': 2064, 'mustache': 2065, 'choir': 2066, 'fenchurch': 2067, 'tee': 2068, 'ago': 2069, 'according': 2070, 'myspace': 2071, 'youtube': 2072, 'videos': 2073, 'truly': 2074, 'ruffio': 2075, 'maker': 2076, 'elevator': 2077, 'punchlines': 2078, 'developing': 2079, 'lacks': 2080, 'melanin': 2081, 'adrenaline': 2082, 'mainstream': 2083, 'packaged': 2084, 'image': 2085, 'content': 2086, 'sold': 2087, 'gimmick': 2088, 'dating': 2089, 'actresses': 2090, 'mattresses': 2091, 'practice': 2092, 'laxative': 2093, 'atlas': 2094, \"part's\": 2095, 'sharp': 2096, 'cactus': 2097, 'practicing': 2098, 'grace': 2099, \"summer's\": 2100, 'september': 2101, 'amazing': 2102, 'noticed': 2103, 'brighten': 2104, 'brighton': 2105, 'pier': 2106, 'lighten': 2107, 'hated': 2108, 'jaded': 2109, \"love's\": 2110, 'overrated': 2111, 'albert': 2112, 'fulfills': 2113, 'elephants': 2114, 'nose': 2115, 'dives': 2116, 'snowflakes': 2117, \"light's\": 2118, \"day's\": 2119, 'rent': 2120, 'men': 2121, 'gloves': 2122, 'raincoat': 2123, 'afloat': 2124, 'eyed': 2125, 'figures': 2126, 'mirrors': 2127, 'clearer': 2128, 'blur': 2129, 'rides': 2130, 'highbury': 2131, \"estate's\": 2132, 'dragon': 2133, 'flicking': 2134, 'ipod': 2135, 'mics': 2136, 'hype': 2137, '22': 2138, '1': 2139, 'mate': 2140, 'duvet': 2141, 'eh': 2142, 'reinventing': 2143, 'resembling': 2144, 'cutlery': 2145, '01': 2146, 'hoody': 2147, 'smells': 2148, 'bonfire': 2149, 'formula': 2150, 'kick': 2151, 't4': 2152, 'boiled': 2153, 'brew': 2154, 'sugars': 2155, 'york': 2156, 'paris': 2157, 'rome': 2158, 'rio': 2159, 'las': 2160, 'vegas': 2161, 'benson': 2162, 'vengeance': 2163, 'entrance': 2164, 'sentence': 2165, 'barley': 2166, 'sucker': 2167, 'apple': 2168, 'bacardi': 2169, 'seat': 2170, 'b': 2171, 'p': 2172, 'naughty': 2173, 'lastly': 2174, 'fillers': 2175, 'wasps': 2176, 'toothbrush': 2177, 'sharing': 2178, 'fires': 2179, 'fits': 2180, 'sew': 2181, 'shooting': 2182, 'helps': 2183, 'teach': 2184, 'tricks': 2185, 'melt': 2186, 'fulills': 2187, 'nosedives': 2188, 'warning': 2189, 'joke': 2190, 'prefers': 2191, 'lumps': 2192, 'sugar': 2193, 'goodness': 2194, 'sake': 2195, 'dues': 2196, 'endless': 2197, 'paperwork': 2198, 'searched': 2199, 'blocking': 2200, 'understands': 2201, 'stands': 2202, 'powers': 2203, 'awaking': 2204, 'shade': 2205, 'towering': 2206, 'admiring': 2207, 'inhaling': 2208, 'fumes': 2209, 'flowers': 2210, 'lagged': 2211, 'begging': 2212, 'whites': 2213, 'irises': 2214, 'heavy': 2215, 'waits': 2216, 'suppose': 2217, 'corrosive': 2218, 'acid': 2219, 'tabs': 2220, 'vocables': 2221, 'photo': 2222, 'shoots': 2223, 'motive': 2224, 'vent': 2225, 'invent': 2226, 'phrase': 2227, 'overworking': 2228, 'interview': 2229, 'vampire': 2230, 'utensil': 2231, 'require': 2232, 'd': 2233, 'v': 2234, 'z': 2235, 'overtired': 2236, 'faced': 2237, 'myers': 2238, 'baggage': 2239, 'acquired': 2240, 'maze': 2241, 'dying': 2242, 'scissors': 2243, 'sword': 2244, 'sharpen': 2245, 'hunting': 2246, 'knives': 2247, 'psychopathic': 2248, 'lyricists': 2249, 'hunt': 2250, 'haling': 2251, 'essex': 2252, 'boarder': 2253, 'villains': 2254, 'mastermind': 2255, 'sorts': 2256, 'crimes': 2257, 'snorting': 2258, 'mortified': 2259, 'brush': 2260, 'presence': 2261, 'deliver': 2262, 'ron': 2263, 'slytherin': 2264, 'snape': 2265, 'minded': 2266, 'minimum': 2267, 'prison': 2268, 'timing': 2269, 'pillows': 2270, 'si': 2271, 'con': 2272, 'mac': 2273, 'pro': 2274, 'opposite': 2275, 'homework': 2276, 'older': 2277, 'await': 2278, 'breaths': 2279, 'view': 2280, 'screws': 2281, 'metaphors': 2282, 'typhoons': 2283, 'elapsing': 2284, 'catching': 2285, \"z's\": 2286, 'analyse': 2287, 'information': 2288, 'practical': 2289, 'gentlemen': 2290, 'hardly': 2291, \"'causei\": 2292, 'rights': 2293, 'correcting': 2294, \"'oh\": 2295, 'devs': 2296, \"ed'\": 2297, 'bloody': 2298, 'deprivation': 2299, 'detriment': 2300, 'writers': 2301, 'pupils': 2302, 'engaged': 2303, 'classroom': 2304, 'holy': 2305, 'matrimony': 2306, 'x4': 2307, 'goals': 2308, 'further': 2309, 'limits': 2310, 'smart': 2311, 'depart': 2312, 'mum': 2313, 'lots': 2314, 'whats': 2315, 'unconditional': 2316, 'bills': 2317, 'moan': 2318, 'spoon': 2319, 'colder': 2320, 'trespassing': 2321, '31': 2322, 'mom': 2323, 'parents': 2324, 'grandson': 2325, 'cars': 2326, 'bike': 2327, 'quad': 2328, 'tireless': 2329, 'wanting': 2330, 'honour': 2331, \"playin'\": 2332, 'talents': 2333, 'surely': 2334, 'par': 2335, 'hustling': 2336, 'seeking': 2337, \"g's\": 2338, 'exact': 2339, 'unfair': 2340, 'determined': 2341, 'mission': 2342, 'lump': 2343, 'thank': 2344, 'clubs': 2345, 'raves': 2346, 'airwaves': 2347, 'cordial': 2348, 'goal': 2349, 'role': 2350, 'pioneer': 2351, 'messenger': 2352, 'raising': 2353, 'roof': 2354, 'airwave': 2355, 'dial': 2356, 'pile': 2357, 'dub': 2358, '30': 2359, 'degrees': 2360, 'thursday': 2361, 'perv': 2362, 'mercedes': 2363, \"'rape'\": 2364, 'sums': 2365, 'events': 2366, 'punter': 2367, 'visit': 2368, 'clinic': 2369, 'booked': 2370, 'whittington': 2371, 'jaw': 2372, 'inquisitive': 2373, 'fibbing': 2374, 'sees': 2375, 'hooker': 2376, 'fatal': 2377, 'cunt': 2378, 'doctor': 2379, 'dough': 2380, 'poxy': 2381, 'authorities': 2382, 'noses': 2383, 'injuries': 2384, 'case': 2385, 'doc': 2386, 'opens': 2387, 'stitched': 2388, 'lip': 2389, 'stared': 2390, 'heroin': 2391, 'heroine': 2392, 'prostitute': 2393, 'punching': 2394, 'funds': 2395, 'moneygram': 2396, 'study': 2397, 'struggled': 2398, 'formulate': 2399, 'appalling': 2400, 'fancy': 2401, 'pimped': 2402, 'uncle': 2403, 'trembling': 2404, 'skinny': 2405, 'resembles': 2406, 'deer': 2407, 'facing': 2408, 'detective': 2409, 'meddling': 2410, 'gravity': 2411, 'damage': 2412, 'causing': 2413, 'scandal': 2414, 'cop': 2415, \"'who\": 2416, 'whore': 2417, 'murdered': 2418, 'learning': 2419, 'exactly': 2420, 'reassures': 2421, 'underlines': 2422, 'mobile': 2423, 'begs': 2424, 'useless': 2425, 'stupid': 2426, \"hasn't\": 2427, 'bruised': 2428, 'dawns': 2429, \"'where\": 2430, 'bitch': 2431, 'prizes': 2432, 'guessing': 2433, 'resistance': 2434, 'foolishness': 2435, 'boots': 2436, 'alibi': 2437, 'killed': 2438, 'error': 2439, 'towers': 2440, 'inch': 2441, 'catches': 2442, 'flashes': 2443, \"handbag's\": 2444, 'dropped': 2445, 'contents': 2446, 'despite': 2447, 'rage': 2448, 'brutally': 2449, 'murders': 2450, 'niece': 2451, 'boot': 2452, 'merc': 2453, '13th': 2454, 'omar': 2455, 'epps': 2456, 'relate': 2457, 'emotion': 2458, 'thriving': 2459, 'topic': 2460, 'afford': 2461, 'force': 2462, 'sorcerer': 2463, 'parro': 2464, 'ammo': 2465, 'everyone': 2466, 'path': 2467, 'narrow': 2468, 'umbrella': 2469, 'clever': 2470, 'kicked': 2471, 'bunch': 2472, 'feds': 2473, 'invited': 2474, 'guests': 2475, 'shoulda': 2476, 'coulda': 2477, 'bet': 2478, 'supplies': 2479, \"6'1\": 2480, 'sufficient': 2481, 'amount': 2482, 'liquid': 2483, 'mc': 2484, 'vouch': 2485, 'choking': 2486, 'seriously': 2487, 'ship': 2488, 'sunk': 2489, 'maintaining': 2490, 'commotion': 2491, 'dolphin': 2492, 'motion': 2493, 'corrosion': 2494, 'em': 2495, 'tug': 2496, 'roped': 2497, 'reveal': 2498, 'provide': 2499, 'i’ma': 2500, 'survive': 2501, 'vowed': 2502, '17': 2503, \"lemon's\": 2504, 'magazines': 2505, 'heat': 2506, 'hoped': 2507, 'self': 2508, 'doubts': 2509, 'crafts': 2510, 'slumber': 2511, \"nightmares'll\": 2512, 'dozing': 2513, 'rules': 2514, 'training': 2515, 'latest': 2516, 'embed': 2517, 'inception': 2518, 'erection': 2519, 'donna': 2520, \"argentina's\": 2521, 'ammunish': 2522, 'deaf': 2523, 'gang': 2524, 'ceo': 2525, 'suckers': 2526, 'reality': 2527, 'doze': 2528, 'fond': 2529, 'placed': 2530, 'worker': 2531, 'missed': 2532, 'ike': 2533, 'turner': 2534, \"ch'yeah\": 2535, 'ish': 2536, 'mattress': 2537, 'hmm': 2538, 'provided': 2539, 'supporting': 2540, 'mar': 2541, 'jays': 2542, 'bare': 2543, 'racists': 2544, 'hatred': 2545, '3': 2546, 'cage': 2547, 'slaving': 2548, 'pavements': 2549, 'amazement': 2550, 'prone': 2551, 'sunday': 2552, 'chicken': 2553, 'wisdom': 2554, 'heartache': 2555, 'tells': 2556, 'warmth': 2557, 'somethings': 2558, 'phoney': 2559, \"'nan\": 2560, 'gangs': 2561, 'loads': 2562, \"jessica's\": 2563, 'warreen': 2564, 'lauren': 2565, 'alex': 2566, 'c': 2567, 'mouths': 2568, 'agreeing': 2569, 'longer': 2570, 'problems': 2571, 'dissed': 2572, 'sonia': 2573, 'inheritance': 2574, 'betrayed': 2575, 'happiness': 2576, 'chose': 2577, 'foundations': 2578, 'crumbled': 2579, 'building': 2580, 'bricks': 2581, 'cement': 2582, 'describe': 2583, 'rapeing': 2584, 'broad': 2585, 'stealing': 2586, 'mourn': 2587, 'able': 2588, 'inconsiderate': 2589, 'unconditionally': 2590, 'advantage': 2591, 'idiot': 2592, 'punishment': 2593, 'emotions': 2594, 'excuse': 2595, 'sticks': 2596, 'heating': 2597, 'freezing': 2598, 'rely': 2599, 'parts': 2600, 'phrases': 2601, \"'when\": 2602, 'fizzle': 2603, 'flicker': 2604, 'clipper': 2605, 'create': 2606, \"band's\": 2607, 'handshake': 2608, 'began': 2609, 'landscape': 2610, 'bottles': 2611, 'applaud': 2612, 'evidence': 2613, 'waves': 2614, 'tsunami': 2615, \"mind's\": 2616, 'views': 2617, 'halls': 2618, 'position': 2619, 'stalker': 2620, 'awkward': 2621, 'surface': 2622, 'sedative': 2623, 'wo': 2624, 'ooooahhhh': 2625, 'oohh': 2626, 'somewhere': 2627, 'warrior': 2628, 'foreigner': 2629, 'bottled': 2630, 'coroner': 2631, 'follower': 2632, 'filler': 2633, 'killer': 2634, 'pillow': 2635, 'ballpoint': 2636, 'passport': 2637, 'tan': 2638, 'fourth': 2639, 'finger': 2640, 'meets': 2641, 'knuckle': 2642, 'bath': 2643, 'bubbles': 2644, 'lovable': 2645, 'snowflake': 2646, 'flick': 2647, 'guilty': 2648, 'cup': 2649, 'shrek': 2650, 'fairy': 2651, 'tale': 2652, 'vcr': 2653, 'owned': 2654, 'blu': 2655, 'ray': 2656, 'computer': 2657, 'beats': 2658, 'chuck': 2659, 'controllers': 2660, 'tv': 2661, 'flutter': 2662, 'lash': 2663, 'pendant': 2664, 'pebble': 2665, 'carve': 2666, 'rests': 2667, 'peacefully': 2668, \"mother's\": 2669, 'unmade': 2670, 'quietly': 2671, 'dimple': 2672, 'chin': 2673, 'fingernails': 2674, 'size': 2675, 'grain': 2676, 'eyelids': 2677, 'opened': 2678, 'tightly': 2679, 'torn': 2680, \"who'd\": 2681, 'build': 2682, 'meanings': 2683, 'swap': 2684, 'braces': 2685, 'cuddle': 2686, 'safety': 2687, 'splattered': 2688, 'shirt': 2689, 'craving': 2690, 'alas': 2691, 'recall': 2692, 'comrades': 2693, 'sweethearts': 2694, 'unto': 2695, 'gently': 2696, 'softly': 2697, 'slain': 2698, 'perhaps': 2699, 'welcomed': 2700, 'ought': 2701, 'passes': 2702, 'birds': 2703, 'symphony': 2704, 'carried': 2705, 'alarm': 2706, 'wiped': 2707, 'arrive': 2708, 'dances': 2709, 'slightly': 2710, 'pretends': 2711, 'alice': 2712, 'cheque': 2713, 'sigh': 2714, 'struck': 2715, 'matchstick': 2716, 'lit': 2717, 'sherrif': 2718, 'yard': 2719, 'cried': 2720, 'cab': 2721, 'crooked': 2722, 'nonchalant': 2723, 'wound': 2724, 'spill': 2725, 'church': 2726, 'pray': 2727, \"god's\": 2728, 'saving': 2729, 'harley': 2730, 'driveway': 2731, 'pathway': 2732, 'butt': 2733, 'ash': 2734, 'tray': 2735, 'baked': 2736, 'blaring': 2737, \"callin'\": 2738, 'bible': 2739, 'drawer': 2740, 'froze': 2741, \"hell's\": 2742, 'non': 2743, 'exit': 2744, 'rot': 2745, 'gust': 2746, 'delivering': 2747, 'pad': 2748, 'sights': 2749, 'lime': 2750, 'corona': 2751, 'mayne': 2752, 'puddles': 2753, 'mud': 2754, 'psychology': 2755, 'psychologically': 2756, 'pardon': 2757, 'toes': 2758, 'pencil': 2759, 'favor': 2760, 'thirst': 2761, 'praise': 2762, 'allah': 2763, 'ridah': 2764, 'prada': 2765, 'thrift': 2766, 'ada': 2767, 'di': 2768, 'das': 2769, 'fetus': 2770, 'papa': 2771, 'bang': 2772, 'yo': 2773, 'journey': 2774, 'overseas': 2775, 'gogh': 2776, 'gretel': 2777, 'hansel': 2778, 'critics': 2779, 'tangoed': 2780, 'rocking': 2781, 'kangol': 2782, 'lambo': 2783, 'hello': 2784, 'mullet': 2785, 'huh': 2786, 'piggy': 2787, 'drum': 2788, 'pulling': 2789, 'early': 2790, \"meal's\": 2791, \"gettin'\": 2792, 'pilgrims': 2793, 'woah': 2794, \"hill's\": 2795, 'bananas': 2796, 'handle': 2797, 'animalistic': 2798, '60': 2799, \"goin'\": 2800, 'budweiser': 2801, 'idea': 2802, 'looser': 2803, 'cannons': 2804, 'college': 2805, 'rule': 2806, 'marshall': 2807, 'mathers': 2808, 'tossing': 2809, 'rappers': 2810, 'crew': 2811, 'shady': 2812, 'doggonnit': 2813, \"dog's\": 2814, 'dogg': 2815, 'beast': 2816, 'wolf': 2817, 'dogs': 2818, 'woof': 2819, 'melancholy': 2820, 'mellow': 2821, 'shhhh': 2822, 'earned': 2823, 'holler': 2824, 'halloween': 2825, 'borrowing': 2826, 'bark': 2827, 'cracked': 2828, 'target': 2829, 'demolish': 2830, \"swattin'\": 2831, 'audiences': 2832, 'leech': 2833, 'creep': 2834, 'ambient': 2835, 'sounds': 2836, 'obvious': 2837, 'witness': 2838, 'retardedness': 2839, 'cerebral': 2840, 'palsy': 2841, 'several': 2842, 'pauses': 2843, 'holes': 2844, 'tubes': 2845, 'receive': 2846, 'oxygen': 2847, 'buried': 2848, 'freak': 2849, 'clawing': 2850, 'snatching': 2851, \"clawin'\": 2852, 'cat': 2853, 'rat': 2854, 'hog': 2855, 'pulp': 2856, 'nails': 2857, 'jaws': 2858, 'bars': 2859, 'squad': 2860, 'pens': 2861, 'flesh': 2862, 'titanium': 2863, 'brass': 2864, 'plates': 2865, 'polished': 2866, 'emcees': 2867, 'trap': 2868, 'bobby': 2869, 'pin': 2870, 'astonishing': 2871, 'strapped': 2872, 'bomb': 2873, \"shockwave's\": 2874, 'bastard': 2875, 'popping': 2876, 'spit': 2877, \"pop's\": 2878, 'grave': 2879, \"apologin'\": 2880, 'shits': 2881, 'shih': 2882, 'tzus': 2883, 'pisses': 2884, 'igloos': 2885, \"vomitin'\": 2886, 'fluid': 2887, 'ate': 2888, 'stew': 2889, 'neither': 2890, 'sniffs': 2891, 'beethoven': 2892, 'orchestrate': 2893, 'porpoise': 2894, 'dip': 2895, 'swimming': 2896, 'motherfucking': 2897, 'built': 2898, 'slumdon': 2899, 'holla': 2900, 'asks': 2901, 'changes': 2902, 'longest': 2903, 'messed': 2904, 'suppress': 2905, 'devotion': 2906, 'intertwined': 2907, 'ohhh': 2908, 'below': 2909, 'later': 2910, 'pause': 2911, 'paths': 2912, 'swing': 2913, '00': 2914, 'gin': 2915, 'pizza': 2916, 'text': 2917, 'message': 2918, 'loves': 2919, 'aretha': 2920, 'cities': 2921, 'planes': 2922, 'confused': 2923, 'intended': 2924, 'threat': 2925, 'disappeared': 2926, 'sex': 2927, 'course': 2928, 'commitment': 2929, 'realize': 2930, 'honest': 2931, 'ringing': 2932, 'bell': 2933, 'covers': 2934, 'stacks': 2935, 'illegal': 2936, 'weed': 2937, 'kites': 2938, \"other's\": 2939, 'anywhere': 2940, 'minds': 2941, 'relative': 2942, 'hoodie': 2943, 'drawstrings': 2944, 'creating': 2945, 'acting': 2946, 'rabbits': 2947, 'vanish': 2948, 'borough': 2949, 'celtics': 2950, 'selfish': 2951, 'overlook': 2952, 'mixing': 2953, 'complications': 2954, 'evaluate': 2955, 'easier': 2956, 'sixteen': 2957, 'heartbeat': 2958, 'lamppost': 2959, '6th': 2960, 'hearing': 2961, 'sinning': 2962, 'ages': 2963, 'hearted': 2964, 'silhouette': 2965, 'surrounding': 2966, 'wilderness': 2967, 'beth': 2968, 'wakes': 2969, 'kitchen': 2970, 'cap': 2971, 'intends': 2972, 'persuaded': 2973, 'mama': 2974, 'saints': 2975, 'suitcase': 2976, 'shoe': 2977, 'stayed': 2978, 'private': 2979, 'subject': 2980, 'secret': 2981, 'public': 2982, 'disgusted': 2983, 'skeletons': 2984, 'trapped': 2985, 'lacking': 2986, 'backtrack': 2987, 'casually': 2988, 'practically': 2989, 'tragically': 2990, 'recently': 2991, 'headphones': 2992, 'holocene': 2993, 'promised': 2994, 'monastery': 2995, 'sue': 2996, 'celebrate': 2997, 'switch': 2998, 'professional': 2999, 'features': 3000, 'success': 3001, '24': 3002, '7': 3003, 'book': 3004, 'hook': 3005, 'irony': 3006, 'career': 3007, 'exist': 3008, 'spliff': 3009, 'spiral': 3010, 'misguiding': 3011, '27': 3012, 'thrill': 3013, 'challenge': 3014, 'therapy': 3015, 'apology': 3016, 'honesty': 3017, 'sweep': 3018, '70': 3019, '23': 3020, 'me—i': 3021, \"hair's\": 3022, 'fades': 3023, \"smile's\": 3024, 'ud': 3025, 'heaven': 3026, 'resting': 3027, 'doctors': 3028, 'medicine': 3029, 'suit': 3030, 'stapled': 3031, 'sister': 3032, 'rapper': 3033, 'spitting': 3034, 'quicker': 3035, 'bitten': 3036, 'plagiarism': 3037, 'prisoner': 3038, 'criticism': 3039, 'perk': 3040, 'system': 3041, 'saga': 3042, 'lager': 3043, 'stepfather': 3044, \"'caine\": 3045, 'carter': 3046, 'grounded': 3047, '16': 3048, 'macy': 3049, 'choked': 3050, 'subway': 3051, 'station': 3052, 'movie': 3053, 'star': 3054, 'adding': 3055, 'population': 3056, 'imagination': 3057, 'relax': 3058, 'reputation': 3059, 'blues': 3060, \"hittin'\": 3061, 'prove': 3062, 'vocal': 3063, 'burst': 3064, 'opal': 3065, 'beckham': 3066, 'tattooed': 3067, 'claiming': 3068, 'handled': 3069, 'nme': 3070, 'copies': 3071, \"magazines'll\": 3072, 'spectacles': 3073, 'festival': 3074, 'fees': 3075, 'healthier': 3076, 'dalmatian': 3077, 'pedigree': 3078, 'rubber': 3079, 'dingied': 3080, 'rapids': 3081, 'fashioning': 3082, 'magic': 3083, 'battling': 3084, 'shirtless': 3085, 'accept': 3086, \"someone's\": 3087, 'dressed': 3088, 'steps': 3089, 'putting': 3090, 'brave': 3091, 'timothy': 3092, 'dalton': 3093, 'considering': 3094, 'hopeless': 3095, 'recordings': 3096, 'tradition': 3097, 'absence': 3098, 'absinthe': 3099, 'vividly': 3100, 'handful': 3101, 'blowing': 3102, 'globally': 3103, 'vocally': 3104, 'totally': 3105, 'achieving': 3106, \"life's\": 3107, 'schemes': 3108, 'stylist': 3109, 'madison': 3110, 'square': 3111, 'likely': 3112, 'mcdaid': 3113, 'discussing': 3114, 'betray': 3115, 'remembering': 3116, 'cuffs': 3117, 'wild': 3118, \"lord's\": 3119, 'stopped': 3120, 'awards': 3121, 'paving': 3122, 'blessed': 3123, 'envy': 3124, 'satan': 3125, 'tempts': 3126, 'stride': 3127, 'questioning': 3128, 'stereotypical': 3129, 'trappings': 3130, 'destroy': 3131, 'touring': 3132, 'chased': 3133, 'painted': 3134, 'route': 3135, 'fame': 3136, 'relationships': 3137, 'fix': 3138, 'preach': 3139, 'reverend': 3140, 'beg': 3141, 'disappointed': 3142, 'a14': 3143, 'beaten': 3144, 'forty': 3145, 'thou': 3146, \"damian's\": 3147, 'generation': 3148, \"inspiration's\": 3149, 'allowed': 3150, 'befall': 3151, 'tasted': 3152, 'perfume': 3153, 'roaring': 3154, 'cigarettes': 3155, 'backfields': 3156, 'friday': 3157, 'buy': 3158, 'spirits': 3159, 'works': 3160, 'overdosed': 3161, 'answers': 3162, 'apologise': 3163, 'jumping': 3164, 'rocks': 3165, 'mystery': 3166, 'travelled': 3167, 'date': 3168, 'thrifty': 3169, 'plate': 3170, 'taxi': 3171, 'whispered': 3172, 'shares': 3173, 'someday': 3174, 'odds': 3175, 'person': 3176, 'grafton': 3177, 'shared': 3178, 'gaelic': 3179, \"friend's\": 3180, 'jamie': 3181, 'chaser': 3182, 'arthur': 3183, 'shotgun': 3184, 'chatted': 3185, 'darts': 3186, 'orders': 3187, 'stool': 3188, 'cèilidh': 3189, 'trad': 3190, 'carrickfergus': 3191, 'sung': 3192, 'acapella': 3193, 'repeat': 3194, 'outstayed': 3195, 'coats': 3196, 'doritos': 3197, '29th': 3198, 'park': 3199, \"another's\": 3200, 'month': 3201, 'ours': 3202, 'moving': 3203, 'reminding': 3204, 'nursing': 3205, 'others': 3206, 'pounds': 3207, 'diet': 3208, 'watches': 3209, 'eats': 3210, 'eyebrows': 3211, 'plucked': 3212, 'arsehole': 3213, 'bleached': 3214, 'owns': 3215, 'ministry': 3216, 'cd': 3217, 'tribal': 3218, 'tattoos': 3219, 'instagram': 3220, 'creeping': 3221, \"trouble's\": 3222, 'remind': 3223, 'sipped': 3224, 'cans': 3225, 'lois': 3226, 'superman': 3227, 'rents': 3228, 'burb': 3229, 'malaga': 3230, 'fellas': 3231, 'drinks': 3232, 'sunglasses': 3233, 'indoors': 3234, 'nighttime': 3235, 'chune': 3236, 'boydem': 3237, 'packet': 3238, 'crisps': 3239, 'cheating': 3240, 'kale': 3241, 'kylie': 3242, 'kim': 3243, 'oughta': 3244, 'sweetest': 3245, 'shakes': 3246, 'pot': 3247, 'wandering': 3248, 'unlike': 3249, 'perched': 3250, 'forehead': 3251, 'orwell': 3252, 'tin': 3253, 'chimes': 3254, 'doorbells': 3255, 'flint': 3256, 'lighter': 3257, 'fuel': 3258, 'flame': 3259, 'laid': 3260, 'lighthouse': 3261, 'safely': 3262, 'guide': 3263, 'soapbox': 3264, 'involved': 3265, 'politics': 3266, 'religions': 3267, \"peoples'\": 3268, 'quarrels': 3269, \"family's\": 3270, \"revolution's\": 3271, 'marching': 3272, 'balanced': 3273, 'following': 3274, 'fitting': 3275, \"future's\": 3276, 'grand': 3277, 'bought': 3278, 'proposed': 3279, 'dentist': 3280, \"guy's\": 3281, \"soldier's\": 3282, 'beauty': 3283, 'rose': 3284, 'borrowed': 3285, 'eight': 3286, 'sons': 3287, 'daughters': 3288, 'streak': 3289, 'sixty': 3290, 'armchairs': 3291, 'adore': 3292, 'farm': 3293, 'belfast': 3294, 'worried': 3295, 'king': 3296, 'crown': 3297, 'southern': 3298, 'difference': 3299, 'assure': 3300, 'saturday': 3301, 'lamborghinis': 3302, 'rented': 3303, 'hummers': 3304, 'downtown': 3305, 'middle': 3306, 'drove': 3307, 'halfway': 3308, 'fazed': 3309, 'cameras': 3310, 'caramel': 3311, 'drives': 3312, 'hips': 3313, \"givin'\": 3314, 'suddenly': 3315, 'ven': 3316, 'para': 3317, 'acá': 3318, 'bailar': 3319, 'toma': 3320, 'mi': 3321, 'mano': 3322, 'sentir': 3323, 'tu': 3324, 'cuerpo': 3325, 'en': 3326, 'mí': 3327, 'estás': 3328, 'temblando': 3329, 'rrrr': 3330, 'flawless': 3331, 'buenos': 3332, 'aires': 3333, \"sun's\": 3334, 'risk': 3335, 'vice': 3336, 'okurr': 3337, 'whips': 3338, 'furs': 3339, 'prefer': 3340, 'mamacita': 3341, 'margarita': 3342, 'jungle': 3343, 'tongue': 3344, 'jordan': 3345, 'exploring': 3346, 'foreign': 3347, 'forest': 3348, 'pouring': 3349, 'rub': 3350, 'genie': 3351, 'spot': 3352, 'lamborghini': 3353, 'album': 3354, 'embarrassed': 3355, 'freight': 3356, 'cargo': 3357, 'dot': 3358, 'aeroplanes': 3359, 'signal': 3360, 'serotonin': 3361, 'confidence': 3362, 'fantasise': 3363, 'lawsuits': 3364, 'headline': 3365, 'princess': 3366, 'ins': 3367, 'babylon': 3368, 'arrow': 3369, 'tastes': 3370, 'lipstick': 3371, 'moonlit': 3372, \"it'd\": 3373, '80': 3374, 'cleared': 3375, 'grabbed': 3376, 'beers': 3377, 'brooklyn': 3378, 'greatest': 3379, 'achieved': 3380, 'knee': 3381, 'stumbled': 3382, 'moonlight': 3383, \"parents'\": 3384, 'paradise': 3385, 'implodes': 3386, 'intention': 3387, \"fallin'\": 3388, 'neon': 3389, 'ran': 3390, 'parade': 3391, 'rough': 3392, 'patch': 3393, 'celebration': 3394, 'hooray': 3395, 'photographs': 3396, 'sepia': 3397, 'tones': 3398, 'letting': 3399, 'tainted': 3400, 'stalled': 3401, 'lows': 3402, 'highs': 3403, 'showed': 3404, 'upside': 3405, 'folded': 3406}\n",
      "3407\n"
     ]
    }
   ],
   "source": [
    "tokenizer = Tokenizer()\n",
    "\n",
    "data = open('dataset.txt').read()\n",
    "\n",
    "corpus = data.lower().split(\"\\n\")\n",
    "\n",
    "tokenizer.fit_on_texts(corpus)\n",
    "total_words = len(tokenizer.word_index) + 1\n",
    "\n",
    "print(tokenizer.word_index)\n",
    "print(total_words)"
   ]
  },
  {
   "attachments": {},
   "cell_type": "markdown",
   "metadata": {},
   "source": [
    "**Preparing data for training**"
   ]
  },
  {
   "attachments": {},
   "cell_type": "markdown",
   "metadata": {},
   "source": [
    "Generating N-Grams"
   ]
  },
  {
   "cell_type": "code",
   "execution_count": 3,
   "metadata": {},
   "outputs": [],
   "source": [
    "input_sequences = []\n",
    "\n",
    "for line in corpus:\n",
    "    token_list = tokenizer.texts_to_sequences([line])[0]\n",
    "    for i in range(1, len(token_list)):\n",
    "        n_gram_sequence = token_list[:i+1]\n",
    "        input_sequences.append(n_gram_sequence)"
   ]
  },
  {
   "attachments": {},
   "cell_type": "markdown",
   "metadata": {},
   "source": [
    "Padding Sequences"
   ]
  },
  {
   "cell_type": "code",
   "execution_count": 4,
   "metadata": {},
   "outputs": [],
   "source": [
    "max_sequence_len = max([len(x) for x in input_sequences])\n",
    "input_sequences = np.array(pad_sequences(input_sequences, maxlen=max_sequence_len, padding='pre'))"
   ]
  },
  {
   "attachments": {},
   "cell_type": "markdown",
   "metadata": {},
   "source": [
    "Creating predictors and label"
   ]
  },
  {
   "cell_type": "code",
   "execution_count": 5,
   "metadata": {},
   "outputs": [],
   "source": [
    "xs, labels = input_sequences[:,:-1], input_sequences[:,-1]\n",
    "\n",
    "ys = tf.keras.utils.to_categorical(labels, num_classes=total_words)"
   ]
  },
  {
   "cell_type": "code",
   "execution_count": 6,
   "metadata": {},
   "outputs": [
    {
     "name": "stdout",
     "output_type": "stream",
     "text": [
      "17\n",
      "218\n",
      "80\n",
      "439\n"
     ]
    }
   ],
   "source": [
    "print(tokenizer.word_index['love'])\n",
    "print(tokenizer.word_index['darling'])\n",
    "print(tokenizer.word_index['baby'])\n",
    "print(tokenizer.word_index['together'])"
   ]
  },
  {
   "cell_type": "code",
   "execution_count": 7,
   "metadata": {},
   "outputs": [
    {
     "name": "stdout",
     "output_type": "stream",
     "text": [
      "[   0    0    0    0    0    0    0    0    0    0    0    0    0    0\n",
      "    0    0    0    0    0  465 1032   16   50   51]\n"
     ]
    }
   ],
   "source": [
    "print(xs[17])"
   ]
  },
  {
   "cell_type": "code",
   "execution_count": 8,
   "metadata": {},
   "outputs": [
    {
     "name": "stdout",
     "output_type": "stream",
     "text": [
      "[0. 0. 0. ... 0. 0. 0.]\n"
     ]
    }
   ],
   "source": [
    "print(ys[17])"
   ]
  },
  {
   "attachments": {},
   "cell_type": "markdown",
   "metadata": {},
   "source": [
    "**Creating the model**"
   ]
  },
  {
   "cell_type": "code",
   "execution_count": 47,
   "metadata": {},
   "outputs": [],
   "source": [
    "model = Sequential()\n",
    "model.add(Embedding(total_words, 200, input_length=max_sequence_len-1))\n",
    "model.add(Bidirectional(LSTM(512, return_sequences=True)))\n",
    "model.add(LSTM(256))\n",
    "model.add(Dense(total_words, activation='softmax'))\n",
    "\n",
    "model.compile(loss='categorical_crossentropy', optimizer='adam', metrics=['accuracy'])\n"
   ]
  },
  {
   "attachments": {},
   "cell_type": "markdown",
   "metadata": {},
   "source": [
    "**Model Summary**"
   ]
  },
  {
   "cell_type": "code",
   "execution_count": 48,
   "metadata": {},
   "outputs": [
    {
     "name": "stdout",
     "output_type": "stream",
     "text": [
      "Model: \"sequential_7\"\n",
      "_________________________________________________________________\n",
      " Layer (type)                Output Shape              Param #   \n",
      "=================================================================\n",
      " embedding_7 (Embedding)     (None, 24, 200)           681400    \n",
      "                                                                 \n",
      " bidirectional_7 (Bidirectio  (None, 24, 1024)         2920448   \n",
      " nal)                                                            \n",
      "                                                                 \n",
      " lstm_14 (LSTM)              (None, 256)               1311744   \n",
      "                                                                 \n",
      " dense_5 (Dense)             (None, 3407)              875599    \n",
      "                                                                 \n",
      "=================================================================\n",
      "Total params: 5,789,191\n",
      "Trainable params: 5,789,191\n",
      "Non-trainable params: 0\n",
      "_________________________________________________________________\n",
      "None\n"
     ]
    }
   ],
   "source": [
    "print(model.summary())"
   ]
  },
  {
   "attachments": {},
   "cell_type": "markdown",
   "metadata": {},
   "source": [
    "**Training the model**"
   ]
  },
  {
   "cell_type": "code",
   "execution_count": 45,
   "metadata": {},
   "outputs": [],
   "source": [
    "import os\n",
    "\n",
    "if 'singer' not in os.listdir():\n",
    "    history = model.fit(xs, ys, epochs=100, verbose=1)\n",
    "    model.save('singer')\n",
    "else:\n",
    "    model = tf.keras.models.load_model('singer')"
   ]
  },
  {
   "attachments": {},
   "cell_type": "markdown",
   "metadata": {},
   "source": [
    "**Writing songs**"
   ]
  },
  {
   "cell_type": "code",
   "execution_count": 46,
   "metadata": {},
   "outputs": [
    {
     "name": "stdout",
     "output_type": "stream",
     "text": [
      "I used to love her but then i do it for angels to fly to fly to fly ever do it for free the dark lays off street and lace untied make the road street and their seats to fly to fly to fly to the motherland and joy be flooded in the oceans isn't up street and starts to fly to the motherland and starts to move along in a team cd for neck that e'er that's with your shape of eyes mind now that i wake up i think of goodbye to you pay around set sail the motherland and joy be with a piano home into hide and joy be with a thousand kings for two old country lanes then you’re doing oh oh one to you hear you bring to you pay till the sunlight cracks love like a thousand kings i'd want for the living this ground and more than true me over the n i got living right back the party's time street love to come follow me tight now i'm doing away to you bring that i think of love you wanna know about your fear you could get asleep tonight i mean it on him smaller in the shape of a thousand kings and their seats to fly to fly to fly to fly to fly to fly to fly to the motherland and joy be free to the two nothing to move so nothing to be test love the am now that e'er that's with a piano home here tonight you conquer your fear isn't to move along be borrowing the ground and who d'you know you had asleep for somebody like a sunburn or use my neck allow for two old three lover to move along could do it more than a lost on a plane or you could be free to the motherland and starts to regret you'd whisper nina my shirtsleeves time now that blind ends when you were into the asleep of living street and lace untied time for angels to fly to fly to fly to fly to fly to fly to fly get in a test but that's i just go now now now that babe been home as well in love with your body nina like angels to move nina and thumbs dark but lord for the radio ends for a thousand kings and then he started mind you know that she’s more than that she’s more than now now your voice takes me say goodbye to you pay true man i think i love you pay me yeah tonight you pay me tight again that's you truth been alone come out hard to be loved you bring that i need you better now my voice takes me the motherland and joy be with a street my cheeks are truth else in the oceans i lied for a same time to move along now of goodbye to you pay bring home nina and or use my neck allow the keep "
     ]
    }
   ],
   "source": [
    "seed_text = \"I used to love her but\"\n",
    "next_words = 500\n",
    "print(seed_text, end=' ')\n",
    "for _ in range(next_words):\n",
    "    token_list = tokenizer.texts_to_sequences([seed_text])[0]\n",
    "    token_list = pad_sequences([token_list], maxlen=max_sequence_len-1, padding='pre')\n",
    "    predicted = np.argmax(model.predict(token_list, verbose=0), axis=1)\n",
    "    output_word=\"\"\n",
    "    for word, index in tokenizer.word_index.items():\n",
    "        if index == predicted:\n",
    "            output_word = word\n",
    "            break\n",
    "    seed_text += \" \" + output_word\n",
    "    print(output_word, end=' ')\n",
    "\n",
    "# print(seed_text)"
   ]
  }
 ],
 "metadata": {
  "kernelspec": {
   "display_name": "amaterasu",
   "language": "python",
   "name": "python3"
  },
  "language_info": {
   "codemirror_mode": {
    "name": "ipython",
    "version": 3
   },
   "file_extension": ".py",
   "mimetype": "text/x-python",
   "name": "python",
   "nbconvert_exporter": "python",
   "pygments_lexer": "ipython3",
   "version": "3.10.8"
  },
  "orig_nbformat": 4,
  "vscode": {
   "interpreter": {
    "hash": "64df9aa72e402217c95b650a7d129597c23b6447c2bed4bf63f89693626f2f21"
   }
  }
 },
 "nbformat": 4,
 "nbformat_minor": 2
}
